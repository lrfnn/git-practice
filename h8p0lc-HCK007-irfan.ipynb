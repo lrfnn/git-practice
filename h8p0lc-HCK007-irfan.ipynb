{
 "cells": [
  {
   "cell_type": "markdown",
   "metadata": {},
   "source": [
    "Nama: Irfansyah Alif Muhammad\n",
    "Batch: HCK_007"
   ]
  },
  {
   "cell_type": "code",
   "execution_count": 10,
   "metadata": {},
   "outputs": [],
   "source": [
    "data = [['nescaffe', 'kopi', 10000], ['sari_roti', 'roti', 5000], ['relaxa', 'permen', 2000]]\n",
    "\n",
    "def Menu(input_data, menampilkan_data):\n",
    "    input_data = 1\n",
    "    menampilkan_data = 2\n",
    "\n",
    "nama_barang = input('nescaffe:')\n",
    "\n",
    "class Stock:\n",
    "    def __init__(self, name, kategori, harga,):\n",
    "        self.name = name\n",
    "        self.harga = harga\n",
    "        self.kategori = kategori\n",
    "\n",
    "    def check_item(self, name):\n",
    "        for i in range(len(ls)):\n",
    "            if (ls[i].name == name):\n",
    "                return i\n",
    "\n",
    "                "
   ]
  },
  {
   "cell_type": "code",
   "execution_count": null,
   "metadata": {},
   "outputs": [],
   "source": []
  }
 ],
 "metadata": {
  "kernelspec": {
   "display_name": "Python 3",
   "language": "python",
   "name": "python3"
  },
  "language_info": {
   "codemirror_mode": {
    "name": "ipython",
    "version": 3
   },
   "file_extension": ".py",
   "mimetype": "text/x-python",
   "name": "python",
   "nbconvert_exporter": "python",
   "pygments_lexer": "ipython3",
   "version": "3.9.6"
  },
  "orig_nbformat": 4
 },
 "nbformat": 4,
 "nbformat_minor": 2
}
